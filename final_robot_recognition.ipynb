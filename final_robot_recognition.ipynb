{
  "nbformat": 4,
  "nbformat_minor": 0,
  "metadata": {
    "colab": {
      "name": "final_robot_recognition.ipynb",
      "provenance": [],
      "collapsed_sections": []
    },
    "kernelspec": {
      "name": "python3",
      "display_name": "Python 3"
    },
    "language_info": {
      "name": "python"
    },
    "accelerator": "GPU"
  },
  "cells": [
    {
      "cell_type": "code",
      "metadata": {
        "id": "5O6jsUqLX40m"
      },
      "source": [
        "import numpy as np\n",
        "import pandas as pd\n",
        "import matplotlib.pyplot as plt\n",
        "import os"
      ],
      "execution_count": 140,
      "outputs": []
    },
    {
      "cell_type": "code",
      "metadata": {
        "colab": {
          "base_uri": "https://localhost:8080/"
        },
        "id": "JZBSDM_lYWRg",
        "outputId": "e12b8587-9ffd-4899-cbd5-644b7b197d36"
      },
      "source": [
        "%cd /content/drive/MyDrive/career-con-2019/data"
      ],
      "execution_count": 141,
      "outputs": [
        {
          "output_type": "stream",
          "name": "stdout",
          "text": [
            "/content/drive/MyDrive/career-con-2019/data\n"
          ]
        }
      ]
    },
    {
      "cell_type": "code",
      "metadata": {
        "colab": {
          "base_uri": "https://localhost:8080/"
        },
        "id": "TTBGwfY7YX8x",
        "outputId": "b29662b9-7aa4-4b2b-b808-e4d6cb8352c3"
      },
      "source": [
        "!pwd"
      ],
      "execution_count": 142,
      "outputs": [
        {
          "output_type": "stream",
          "name": "stdout",
          "text": [
            "/content/drive/MyDrive/career-con-2019/data\n"
          ]
        }
      ]
    },
    {
      "cell_type": "code",
      "metadata": {
        "colab": {
          "base_uri": "https://localhost:8080/"
        },
        "id": "k-N5uRZbYaaz",
        "outputId": "0a9bed41-78d6-4692-843e-fa7979d42f71"
      },
      "source": [
        "print(os.listdir(\"/content/drive/MyDrive/career-con-2019/data\"))"
      ],
      "execution_count": 143,
      "outputs": [
        {
          "output_type": "stream",
          "name": "stdout",
          "text": [
            "['X_train.csv', 'X_test.csv', 'kaggle.json', 'X_test.csv.zip', 'y_train.csv', 'sample_submission.csv', 'X_train.csv.zip']\n"
          ]
        }
      ]
    },
    {
      "cell_type": "code",
      "metadata": {
        "id": "IlG4W8MiYcII"
      },
      "source": [
        "X_train = pd.read_csv('/content/drive/MyDrive/career-con-2019/data/X_train.csv')\n",
        "y_train = pd.read_csv('/content/drive/MyDrive/career-con-2019/data/y_train.csv')\n",
        "X_test = pd.read_csv('/content/drive/MyDrive/career-con-2019/data/X_test.csv')"
      ],
      "execution_count": 144,
      "outputs": []
    },
    {
      "cell_type": "code",
      "metadata": {
        "colab": {
          "base_uri": "https://localhost:8080/",
          "height": 222
        },
        "id": "0Zykh62KYfZG",
        "outputId": "a7756255-261e-49d4-f0e7-f6ded19b70be"
      },
      "source": [
        "X_train.head()"
      ],
      "execution_count": 145,
      "outputs": [
        {
          "output_type": "execute_result",
          "data": {
            "text/html": [
              "<div>\n",
              "<style scoped>\n",
              "    .dataframe tbody tr th:only-of-type {\n",
              "        vertical-align: middle;\n",
              "    }\n",
              "\n",
              "    .dataframe tbody tr th {\n",
              "        vertical-align: top;\n",
              "    }\n",
              "\n",
              "    .dataframe thead th {\n",
              "        text-align: right;\n",
              "    }\n",
              "</style>\n",
              "<table border=\"1\" class=\"dataframe\">\n",
              "  <thead>\n",
              "    <tr style=\"text-align: right;\">\n",
              "      <th></th>\n",
              "      <th>row_id</th>\n",
              "      <th>series_id</th>\n",
              "      <th>measurement_number</th>\n",
              "      <th>orientation_X</th>\n",
              "      <th>orientation_Y</th>\n",
              "      <th>orientation_Z</th>\n",
              "      <th>orientation_W</th>\n",
              "      <th>angular_velocity_X</th>\n",
              "      <th>angular_velocity_Y</th>\n",
              "      <th>angular_velocity_Z</th>\n",
              "      <th>linear_acceleration_X</th>\n",
              "      <th>linear_acceleration_Y</th>\n",
              "      <th>linear_acceleration_Z</th>\n",
              "    </tr>\n",
              "  </thead>\n",
              "  <tbody>\n",
              "    <tr>\n",
              "      <th>0</th>\n",
              "      <td>0_0</td>\n",
              "      <td>0</td>\n",
              "      <td>0</td>\n",
              "      <td>-0.75853</td>\n",
              "      <td>-0.63435</td>\n",
              "      <td>-0.10488</td>\n",
              "      <td>-0.10597</td>\n",
              "      <td>0.107650</td>\n",
              "      <td>0.017561</td>\n",
              "      <td>0.000767</td>\n",
              "      <td>-0.74857</td>\n",
              "      <td>2.1030</td>\n",
              "      <td>-9.7532</td>\n",
              "    </tr>\n",
              "    <tr>\n",
              "      <th>1</th>\n",
              "      <td>0_1</td>\n",
              "      <td>0</td>\n",
              "      <td>1</td>\n",
              "      <td>-0.75853</td>\n",
              "      <td>-0.63434</td>\n",
              "      <td>-0.10490</td>\n",
              "      <td>-0.10600</td>\n",
              "      <td>0.067851</td>\n",
              "      <td>0.029939</td>\n",
              "      <td>0.003385</td>\n",
              "      <td>0.33995</td>\n",
              "      <td>1.5064</td>\n",
              "      <td>-9.4128</td>\n",
              "    </tr>\n",
              "    <tr>\n",
              "      <th>2</th>\n",
              "      <td>0_2</td>\n",
              "      <td>0</td>\n",
              "      <td>2</td>\n",
              "      <td>-0.75853</td>\n",
              "      <td>-0.63435</td>\n",
              "      <td>-0.10492</td>\n",
              "      <td>-0.10597</td>\n",
              "      <td>0.007275</td>\n",
              "      <td>0.028934</td>\n",
              "      <td>-0.005978</td>\n",
              "      <td>-0.26429</td>\n",
              "      <td>1.5922</td>\n",
              "      <td>-8.7267</td>\n",
              "    </tr>\n",
              "    <tr>\n",
              "      <th>3</th>\n",
              "      <td>0_3</td>\n",
              "      <td>0</td>\n",
              "      <td>3</td>\n",
              "      <td>-0.75852</td>\n",
              "      <td>-0.63436</td>\n",
              "      <td>-0.10495</td>\n",
              "      <td>-0.10597</td>\n",
              "      <td>-0.013053</td>\n",
              "      <td>0.019448</td>\n",
              "      <td>-0.008974</td>\n",
              "      <td>0.42684</td>\n",
              "      <td>1.0993</td>\n",
              "      <td>-10.0960</td>\n",
              "    </tr>\n",
              "    <tr>\n",
              "      <th>4</th>\n",
              "      <td>0_4</td>\n",
              "      <td>0</td>\n",
              "      <td>4</td>\n",
              "      <td>-0.75852</td>\n",
              "      <td>-0.63435</td>\n",
              "      <td>-0.10495</td>\n",
              "      <td>-0.10596</td>\n",
              "      <td>0.005135</td>\n",
              "      <td>0.007652</td>\n",
              "      <td>0.005245</td>\n",
              "      <td>-0.50969</td>\n",
              "      <td>1.4689</td>\n",
              "      <td>-10.4410</td>\n",
              "    </tr>\n",
              "  </tbody>\n",
              "</table>\n",
              "</div>"
            ],
            "text/plain": [
              "  row_id  series_id  ...  linear_acceleration_Y  linear_acceleration_Z\n",
              "0    0_0          0  ...                 2.1030                -9.7532\n",
              "1    0_1          0  ...                 1.5064                -9.4128\n",
              "2    0_2          0  ...                 1.5922                -8.7267\n",
              "3    0_3          0  ...                 1.0993               -10.0960\n",
              "4    0_4          0  ...                 1.4689               -10.4410\n",
              "\n",
              "[5 rows x 13 columns]"
            ]
          },
          "metadata": {},
          "execution_count": 145
        }
      ]
    },
    {
      "cell_type": "code",
      "metadata": {
        "colab": {
          "base_uri": "https://localhost:8080/",
          "height": 161
        },
        "id": "W_zZNoNzYjPt",
        "outputId": "1c2cf1db-71e1-458b-b777-13326c1409ee"
      },
      "source": [
        "X_train.tail(3)"
      ],
      "execution_count": 146,
      "outputs": [
        {
          "output_type": "execute_result",
          "data": {
            "text/html": [
              "<div>\n",
              "<style scoped>\n",
              "    .dataframe tbody tr th:only-of-type {\n",
              "        vertical-align: middle;\n",
              "    }\n",
              "\n",
              "    .dataframe tbody tr th {\n",
              "        vertical-align: top;\n",
              "    }\n",
              "\n",
              "    .dataframe thead th {\n",
              "        text-align: right;\n",
              "    }\n",
              "</style>\n",
              "<table border=\"1\" class=\"dataframe\">\n",
              "  <thead>\n",
              "    <tr style=\"text-align: right;\">\n",
              "      <th></th>\n",
              "      <th>row_id</th>\n",
              "      <th>series_id</th>\n",
              "      <th>measurement_number</th>\n",
              "      <th>orientation_X</th>\n",
              "      <th>orientation_Y</th>\n",
              "      <th>orientation_Z</th>\n",
              "      <th>orientation_W</th>\n",
              "      <th>angular_velocity_X</th>\n",
              "      <th>angular_velocity_Y</th>\n",
              "      <th>angular_velocity_Z</th>\n",
              "      <th>linear_acceleration_X</th>\n",
              "      <th>linear_acceleration_Y</th>\n",
              "      <th>linear_acceleration_Z</th>\n",
              "    </tr>\n",
              "  </thead>\n",
              "  <tbody>\n",
              "    <tr>\n",
              "      <th>487677</th>\n",
              "      <td>3809_125</td>\n",
              "      <td>3809</td>\n",
              "      <td>125</td>\n",
              "      <td>0.62891</td>\n",
              "      <td>-0.76861</td>\n",
              "      <td>-0.084345</td>\n",
              "      <td>0.081178</td>\n",
              "      <td>-0.031184</td>\n",
              "      <td>-0.003961</td>\n",
              "      <td>-0.13894</td>\n",
              "      <td>2.70480</td>\n",
              "      <td>4.2622</td>\n",
              "      <td>-8.1443</td>\n",
              "    </tr>\n",
              "    <tr>\n",
              "      <th>487678</th>\n",
              "      <td>3809_126</td>\n",
              "      <td>3809</td>\n",
              "      <td>126</td>\n",
              "      <td>0.62903</td>\n",
              "      <td>-0.76850</td>\n",
              "      <td>-0.084414</td>\n",
              "      <td>0.081231</td>\n",
              "      <td>-0.069153</td>\n",
              "      <td>0.013229</td>\n",
              "      <td>-0.13021</td>\n",
              "      <td>2.54100</td>\n",
              "      <td>4.7130</td>\n",
              "      <td>-9.4435</td>\n",
              "    </tr>\n",
              "    <tr>\n",
              "      <th>487679</th>\n",
              "      <td>3809_127</td>\n",
              "      <td>3809</td>\n",
              "      <td>127</td>\n",
              "      <td>0.62915</td>\n",
              "      <td>-0.76839</td>\n",
              "      <td>-0.084441</td>\n",
              "      <td>0.081284</td>\n",
              "      <td>-0.042769</td>\n",
              "      <td>0.034049</td>\n",
              "      <td>-0.12580</td>\n",
              "      <td>0.82391</td>\n",
              "      <td>4.2751</td>\n",
              "      <td>-10.4980</td>\n",
              "    </tr>\n",
              "  </tbody>\n",
              "</table>\n",
              "</div>"
            ],
            "text/plain": [
              "          row_id  series_id  ...  linear_acceleration_Y  linear_acceleration_Z\n",
              "487677  3809_125       3809  ...                 4.2622                -8.1443\n",
              "487678  3809_126       3809  ...                 4.7130                -9.4435\n",
              "487679  3809_127       3809  ...                 4.2751               -10.4980\n",
              "\n",
              "[3 rows x 13 columns]"
            ]
          },
          "metadata": {},
          "execution_count": 146
        }
      ]
    },
    {
      "cell_type": "code",
      "metadata": {
        "colab": {
          "base_uri": "https://localhost:8080/",
          "height": 161
        },
        "id": "hCeGpkhaYlfG",
        "outputId": "814f03e2-3cc6-477a-978b-08e527b4c194"
      },
      "source": [
        "X_test.head(3)"
      ],
      "execution_count": 147,
      "outputs": [
        {
          "output_type": "execute_result",
          "data": {
            "text/html": [
              "<div>\n",
              "<style scoped>\n",
              "    .dataframe tbody tr th:only-of-type {\n",
              "        vertical-align: middle;\n",
              "    }\n",
              "\n",
              "    .dataframe tbody tr th {\n",
              "        vertical-align: top;\n",
              "    }\n",
              "\n",
              "    .dataframe thead th {\n",
              "        text-align: right;\n",
              "    }\n",
              "</style>\n",
              "<table border=\"1\" class=\"dataframe\">\n",
              "  <thead>\n",
              "    <tr style=\"text-align: right;\">\n",
              "      <th></th>\n",
              "      <th>row_id</th>\n",
              "      <th>series_id</th>\n",
              "      <th>measurement_number</th>\n",
              "      <th>orientation_X</th>\n",
              "      <th>orientation_Y</th>\n",
              "      <th>orientation_Z</th>\n",
              "      <th>orientation_W</th>\n",
              "      <th>angular_velocity_X</th>\n",
              "      <th>angular_velocity_Y</th>\n",
              "      <th>angular_velocity_Z</th>\n",
              "      <th>linear_acceleration_X</th>\n",
              "      <th>linear_acceleration_Y</th>\n",
              "      <th>linear_acceleration_Z</th>\n",
              "    </tr>\n",
              "  </thead>\n",
              "  <tbody>\n",
              "    <tr>\n",
              "      <th>0</th>\n",
              "      <td>0_0</td>\n",
              "      <td>0</td>\n",
              "      <td>0</td>\n",
              "      <td>0.91208</td>\n",
              "      <td>-0.38193</td>\n",
              "      <td>-0.050618</td>\n",
              "      <td>0.14028</td>\n",
              "      <td>-0.060205</td>\n",
              "      <td>0.071286</td>\n",
              "      <td>-0.18787</td>\n",
              "      <td>0.29492</td>\n",
              "      <td>2.8027</td>\n",
              "      <td>-9.6816</td>\n",
              "    </tr>\n",
              "    <tr>\n",
              "      <th>1</th>\n",
              "      <td>0_1</td>\n",
              "      <td>0</td>\n",
              "      <td>1</td>\n",
              "      <td>0.91220</td>\n",
              "      <td>-0.38165</td>\n",
              "      <td>-0.050573</td>\n",
              "      <td>0.14028</td>\n",
              "      <td>-0.033486</td>\n",
              "      <td>0.060210</td>\n",
              "      <td>-0.18206</td>\n",
              "      <td>0.14944</td>\n",
              "      <td>2.5408</td>\n",
              "      <td>-9.8521</td>\n",
              "    </tr>\n",
              "    <tr>\n",
              "      <th>2</th>\n",
              "      <td>0_2</td>\n",
              "      <td>0</td>\n",
              "      <td>2</td>\n",
              "      <td>0.91228</td>\n",
              "      <td>-0.38143</td>\n",
              "      <td>-0.050586</td>\n",
              "      <td>0.14032</td>\n",
              "      <td>-0.029686</td>\n",
              "      <td>0.029476</td>\n",
              "      <td>-0.18441</td>\n",
              "      <td>-0.49741</td>\n",
              "      <td>2.5853</td>\n",
              "      <td>-9.3835</td>\n",
              "    </tr>\n",
              "  </tbody>\n",
              "</table>\n",
              "</div>"
            ],
            "text/plain": [
              "  row_id  series_id  ...  linear_acceleration_Y  linear_acceleration_Z\n",
              "0    0_0          0  ...                 2.8027                -9.6816\n",
              "1    0_1          0  ...                 2.5408                -9.8521\n",
              "2    0_2          0  ...                 2.5853                -9.3835\n",
              "\n",
              "[3 rows x 13 columns]"
            ]
          },
          "metadata": {},
          "execution_count": 147
        }
      ]
    },
    {
      "cell_type": "code",
      "metadata": {
        "colab": {
          "base_uri": "https://localhost:8080/",
          "height": 161
        },
        "id": "eCP5PfMuYosI",
        "outputId": "7d7ab0ab-2f76-4c9c-c2f4-b8ed6da35969"
      },
      "source": [
        "X_test.tail(3)"
      ],
      "execution_count": 148,
      "outputs": [
        {
          "output_type": "execute_result",
          "data": {
            "text/html": [
              "<div>\n",
              "<style scoped>\n",
              "    .dataframe tbody tr th:only-of-type {\n",
              "        vertical-align: middle;\n",
              "    }\n",
              "\n",
              "    .dataframe tbody tr th {\n",
              "        vertical-align: top;\n",
              "    }\n",
              "\n",
              "    .dataframe thead th {\n",
              "        text-align: right;\n",
              "    }\n",
              "</style>\n",
              "<table border=\"1\" class=\"dataframe\">\n",
              "  <thead>\n",
              "    <tr style=\"text-align: right;\">\n",
              "      <th></th>\n",
              "      <th>row_id</th>\n",
              "      <th>series_id</th>\n",
              "      <th>measurement_number</th>\n",
              "      <th>orientation_X</th>\n",
              "      <th>orientation_Y</th>\n",
              "      <th>orientation_Z</th>\n",
              "      <th>orientation_W</th>\n",
              "      <th>angular_velocity_X</th>\n",
              "      <th>angular_velocity_Y</th>\n",
              "      <th>angular_velocity_Z</th>\n",
              "      <th>linear_acceleration_X</th>\n",
              "      <th>linear_acceleration_Y</th>\n",
              "      <th>linear_acceleration_Z</th>\n",
              "    </tr>\n",
              "  </thead>\n",
              "  <tbody>\n",
              "    <tr>\n",
              "      <th>488445</th>\n",
              "      <td>3815_125</td>\n",
              "      <td>3815</td>\n",
              "      <td>125</td>\n",
              "      <td>0.89521</td>\n",
              "      <td>-0.42019</td>\n",
              "      <td>-0.056343</td>\n",
              "      <td>0.13734</td>\n",
              "      <td>0.033571</td>\n",
              "      <td>0.019868</td>\n",
              "      <td>-0.007203</td>\n",
              "      <td>0.44106</td>\n",
              "      <td>3.2110</td>\n",
              "      <td>-9.3700</td>\n",
              "    </tr>\n",
              "    <tr>\n",
              "      <th>488446</th>\n",
              "      <td>3815_126</td>\n",
              "      <td>3815</td>\n",
              "      <td>126</td>\n",
              "      <td>0.89522</td>\n",
              "      <td>-0.42019</td>\n",
              "      <td>-0.056300</td>\n",
              "      <td>0.13730</td>\n",
              "      <td>0.046988</td>\n",
              "      <td>0.015570</td>\n",
              "      <td>0.001514</td>\n",
              "      <td>-0.25947</td>\n",
              "      <td>2.8634</td>\n",
              "      <td>-9.8546</td>\n",
              "    </tr>\n",
              "    <tr>\n",
              "      <th>488447</th>\n",
              "      <td>3815_127</td>\n",
              "      <td>3815</td>\n",
              "      <td>127</td>\n",
              "      <td>0.89523</td>\n",
              "      <td>-0.42019</td>\n",
              "      <td>-0.056262</td>\n",
              "      <td>0.13723</td>\n",
              "      <td>0.058816</td>\n",
              "      <td>0.006849</td>\n",
              "      <td>-0.003825</td>\n",
              "      <td>0.22418</td>\n",
              "      <td>2.5159</td>\n",
              "      <td>-10.5870</td>\n",
              "    </tr>\n",
              "  </tbody>\n",
              "</table>\n",
              "</div>"
            ],
            "text/plain": [
              "          row_id  series_id  ...  linear_acceleration_Y  linear_acceleration_Z\n",
              "488445  3815_125       3815  ...                 3.2110                -9.3700\n",
              "488446  3815_126       3815  ...                 2.8634                -9.8546\n",
              "488447  3815_127       3815  ...                 2.5159               -10.5870\n",
              "\n",
              "[3 rows x 13 columns]"
            ]
          },
          "metadata": {},
          "execution_count": 148
        }
      ]
    },
    {
      "cell_type": "code",
      "metadata": {
        "colab": {
          "base_uri": "https://localhost:8080/",
          "height": 202
        },
        "id": "c9Awp3RpYq4U",
        "outputId": "1160dc1e-0ed3-4f2f-998a-eed36e651bcb"
      },
      "source": [
        "y_train.head()"
      ],
      "execution_count": 149,
      "outputs": [
        {
          "output_type": "execute_result",
          "data": {
            "text/html": [
              "<div>\n",
              "<style scoped>\n",
              "    .dataframe tbody tr th:only-of-type {\n",
              "        vertical-align: middle;\n",
              "    }\n",
              "\n",
              "    .dataframe tbody tr th {\n",
              "        vertical-align: top;\n",
              "    }\n",
              "\n",
              "    .dataframe thead th {\n",
              "        text-align: right;\n",
              "    }\n",
              "</style>\n",
              "<table border=\"1\" class=\"dataframe\">\n",
              "  <thead>\n",
              "    <tr style=\"text-align: right;\">\n",
              "      <th></th>\n",
              "      <th>series_id</th>\n",
              "      <th>group_id</th>\n",
              "      <th>surface</th>\n",
              "    </tr>\n",
              "  </thead>\n",
              "  <tbody>\n",
              "    <tr>\n",
              "      <th>0</th>\n",
              "      <td>0</td>\n",
              "      <td>13</td>\n",
              "      <td>fine_concrete</td>\n",
              "    </tr>\n",
              "    <tr>\n",
              "      <th>1</th>\n",
              "      <td>1</td>\n",
              "      <td>31</td>\n",
              "      <td>concrete</td>\n",
              "    </tr>\n",
              "    <tr>\n",
              "      <th>2</th>\n",
              "      <td>2</td>\n",
              "      <td>20</td>\n",
              "      <td>concrete</td>\n",
              "    </tr>\n",
              "    <tr>\n",
              "      <th>3</th>\n",
              "      <td>3</td>\n",
              "      <td>31</td>\n",
              "      <td>concrete</td>\n",
              "    </tr>\n",
              "    <tr>\n",
              "      <th>4</th>\n",
              "      <td>4</td>\n",
              "      <td>22</td>\n",
              "      <td>soft_tiles</td>\n",
              "    </tr>\n",
              "  </tbody>\n",
              "</table>\n",
              "</div>"
            ],
            "text/plain": [
              "   series_id  group_id        surface\n",
              "0          0        13  fine_concrete\n",
              "1          1        31       concrete\n",
              "2          2        20       concrete\n",
              "3          3        31       concrete\n",
              "4          4        22     soft_tiles"
            ]
          },
          "metadata": {},
          "execution_count": 149
        }
      ]
    },
    {
      "cell_type": "code",
      "metadata": {
        "colab": {
          "base_uri": "https://localhost:8080/",
          "height": 202
        },
        "id": "GqoGhPGBYtpG",
        "outputId": "bb62c8d3-44db-4dac-88cc-861fb2b5a351"
      },
      "source": [
        "y_train.tail()"
      ],
      "execution_count": 150,
      "outputs": [
        {
          "output_type": "execute_result",
          "data": {
            "text/html": [
              "<div>\n",
              "<style scoped>\n",
              "    .dataframe tbody tr th:only-of-type {\n",
              "        vertical-align: middle;\n",
              "    }\n",
              "\n",
              "    .dataframe tbody tr th {\n",
              "        vertical-align: top;\n",
              "    }\n",
              "\n",
              "    .dataframe thead th {\n",
              "        text-align: right;\n",
              "    }\n",
              "</style>\n",
              "<table border=\"1\" class=\"dataframe\">\n",
              "  <thead>\n",
              "    <tr style=\"text-align: right;\">\n",
              "      <th></th>\n",
              "      <th>series_id</th>\n",
              "      <th>group_id</th>\n",
              "      <th>surface</th>\n",
              "    </tr>\n",
              "  </thead>\n",
              "  <tbody>\n",
              "    <tr>\n",
              "      <th>3805</th>\n",
              "      <td>3805</td>\n",
              "      <td>55</td>\n",
              "      <td>tiled</td>\n",
              "    </tr>\n",
              "    <tr>\n",
              "      <th>3806</th>\n",
              "      <td>3806</td>\n",
              "      <td>67</td>\n",
              "      <td>wood</td>\n",
              "    </tr>\n",
              "    <tr>\n",
              "      <th>3807</th>\n",
              "      <td>3807</td>\n",
              "      <td>48</td>\n",
              "      <td>fine_concrete</td>\n",
              "    </tr>\n",
              "    <tr>\n",
              "      <th>3808</th>\n",
              "      <td>3808</td>\n",
              "      <td>54</td>\n",
              "      <td>tiled</td>\n",
              "    </tr>\n",
              "    <tr>\n",
              "      <th>3809</th>\n",
              "      <td>3809</td>\n",
              "      <td>56</td>\n",
              "      <td>soft_pvc</td>\n",
              "    </tr>\n",
              "  </tbody>\n",
              "</table>\n",
              "</div>"
            ],
            "text/plain": [
              "      series_id  group_id        surface\n",
              "3805       3805        55          tiled\n",
              "3806       3806        67           wood\n",
              "3807       3807        48  fine_concrete\n",
              "3808       3808        54          tiled\n",
              "3809       3809        56       soft_pvc"
            ]
          },
          "metadata": {},
          "execution_count": 150
        }
      ]
    },
    {
      "cell_type": "code",
      "metadata": {
        "colab": {
          "base_uri": "https://localhost:8080/"
        },
        "id": "kOyfXztnYvo5",
        "outputId": "571469f8-126d-44da-db0e-7a303daf4803"
      },
      "source": [
        "print(\"shape of x_train is: {}\\nshape of x_test is: {}\\nshape of y_train{}\".format(X_train.shape, X_test.shape, y_train.shape))"
      ],
      "execution_count": 151,
      "outputs": [
        {
          "output_type": "stream",
          "name": "stdout",
          "text": [
            "shape of x_train is: (487680, 13)\n",
            "shape of x_test is: (488448, 13)\n",
            "shape of y_train(3810, 3)\n"
          ]
        }
      ]
    },
    {
      "cell_type": "code",
      "metadata": {
        "id": "HvpesHdwY0Gh"
      },
      "source": [
        "from sklearn.preprocessing import LabelEncoder\n",
        "le = LabelEncoder()\n",
        "X_train = pd.merge(X_train, y_train, on='series_id')\n",
        "X_train['surface'] = le.fit_transform(X_train['surface'])\n",
        "\n",
        "    \n",
        "X_test['series_id'] = X_test['series_id']+3810\n",
        "X_test['group_id'] = 0\n",
        "X_test['surface'] = 0\n",
        "X_train = pd.concat([X_train, X_test])\n",
        "X_train.reset_index(drop=True, inplace=True)  "
      ],
      "execution_count": 152,
      "outputs": []
    },
    {
      "cell_type": "code",
      "metadata": {
        "colab": {
          "base_uri": "https://localhost:8080/"
        },
        "id": "wvt2iNQlZBBK",
        "outputId": "d8514171-5001-49af-cd1e-7125e6285677"
      },
      "source": [
        "X_train.shape"
      ],
      "execution_count": 153,
      "outputs": [
        {
          "output_type": "execute_result",
          "data": {
            "text/plain": [
              "(976128, 15)"
            ]
          },
          "metadata": {},
          "execution_count": 153
        }
      ]
    },
    {
      "cell_type": "code",
      "metadata": {
        "id": "MBxX3NRRZDCa"
      },
      "source": [
        "cols = list(X_train.columns.values)\n",
        "cols.remove('orientation_W')\n",
        "cols.insert(3,'orientation_W')\n",
        "X_train = X_train[cols]"
      ],
      "execution_count": 154,
      "outputs": []
    },
    {
      "cell_type": "code",
      "metadata": {
        "colab": {
          "base_uri": "https://localhost:8080/",
          "height": 161
        },
        "id": "echCDG7jZGvh",
        "outputId": "744884ed-3500-4f51-8d96-efd741aa6be1"
      },
      "source": [
        "X_train.head(3)\n"
      ],
      "execution_count": 155,
      "outputs": [
        {
          "output_type": "execute_result",
          "data": {
            "text/html": [
              "<div>\n",
              "<style scoped>\n",
              "    .dataframe tbody tr th:only-of-type {\n",
              "        vertical-align: middle;\n",
              "    }\n",
              "\n",
              "    .dataframe tbody tr th {\n",
              "        vertical-align: top;\n",
              "    }\n",
              "\n",
              "    .dataframe thead th {\n",
              "        text-align: right;\n",
              "    }\n",
              "</style>\n",
              "<table border=\"1\" class=\"dataframe\">\n",
              "  <thead>\n",
              "    <tr style=\"text-align: right;\">\n",
              "      <th></th>\n",
              "      <th>row_id</th>\n",
              "      <th>series_id</th>\n",
              "      <th>measurement_number</th>\n",
              "      <th>orientation_W</th>\n",
              "      <th>orientation_X</th>\n",
              "      <th>orientation_Y</th>\n",
              "      <th>orientation_Z</th>\n",
              "      <th>angular_velocity_X</th>\n",
              "      <th>angular_velocity_Y</th>\n",
              "      <th>angular_velocity_Z</th>\n",
              "      <th>linear_acceleration_X</th>\n",
              "      <th>linear_acceleration_Y</th>\n",
              "      <th>linear_acceleration_Z</th>\n",
              "      <th>group_id</th>\n",
              "      <th>surface</th>\n",
              "    </tr>\n",
              "  </thead>\n",
              "  <tbody>\n",
              "    <tr>\n",
              "      <th>0</th>\n",
              "      <td>0_0</td>\n",
              "      <td>0</td>\n",
              "      <td>0</td>\n",
              "      <td>-0.10597</td>\n",
              "      <td>-0.75853</td>\n",
              "      <td>-0.63435</td>\n",
              "      <td>-0.10488</td>\n",
              "      <td>0.107650</td>\n",
              "      <td>0.017561</td>\n",
              "      <td>0.000767</td>\n",
              "      <td>-0.74857</td>\n",
              "      <td>2.1030</td>\n",
              "      <td>-9.7532</td>\n",
              "      <td>13</td>\n",
              "      <td>2</td>\n",
              "    </tr>\n",
              "    <tr>\n",
              "      <th>1</th>\n",
              "      <td>0_1</td>\n",
              "      <td>0</td>\n",
              "      <td>1</td>\n",
              "      <td>-0.10600</td>\n",
              "      <td>-0.75853</td>\n",
              "      <td>-0.63434</td>\n",
              "      <td>-0.10490</td>\n",
              "      <td>0.067851</td>\n",
              "      <td>0.029939</td>\n",
              "      <td>0.003385</td>\n",
              "      <td>0.33995</td>\n",
              "      <td>1.5064</td>\n",
              "      <td>-9.4128</td>\n",
              "      <td>13</td>\n",
              "      <td>2</td>\n",
              "    </tr>\n",
              "    <tr>\n",
              "      <th>2</th>\n",
              "      <td>0_2</td>\n",
              "      <td>0</td>\n",
              "      <td>2</td>\n",
              "      <td>-0.10597</td>\n",
              "      <td>-0.75853</td>\n",
              "      <td>-0.63435</td>\n",
              "      <td>-0.10492</td>\n",
              "      <td>0.007275</td>\n",
              "      <td>0.028934</td>\n",
              "      <td>-0.005978</td>\n",
              "      <td>-0.26429</td>\n",
              "      <td>1.5922</td>\n",
              "      <td>-8.7267</td>\n",
              "      <td>13</td>\n",
              "      <td>2</td>\n",
              "    </tr>\n",
              "  </tbody>\n",
              "</table>\n",
              "</div>"
            ],
            "text/plain": [
              "  row_id  series_id  ...  group_id  surface\n",
              "0    0_0          0  ...        13        2\n",
              "1    0_1          0  ...        13        2\n",
              "2    0_2          0  ...        13        2\n",
              "\n",
              "[3 rows x 15 columns]"
            ]
          },
          "metadata": {},
          "execution_count": 155
        }
      ]
    },
    {
      "cell_type": "code",
      "metadata": {
        "id": "c8ScoW2WZJPS"
      },
      "source": [
        "num_meas = 128\n",
        "num_series = X_train['series_id'].nunique()"
      ],
      "execution_count": 156,
      "outputs": []
    },
    {
      "cell_type": "code",
      "metadata": {
        "colab": {
          "base_uri": "https://localhost:8080/"
        },
        "id": "nHfCqEgIZMWk",
        "outputId": "10315c7c-a08c-4646-8724-b9f08de1d735"
      },
      "source": [
        "num_series"
      ],
      "execution_count": 157,
      "outputs": [
        {
          "output_type": "execute_result",
          "data": {
            "text/plain": [
              "7626"
            ]
          },
          "metadata": {},
          "execution_count": 157
        }
      ]
    },
    {
      "cell_type": "code",
      "metadata": {
        "id": "stR3ij8XaRxh"
      },
      "source": [
        "def q_to_angle(q_val):\n",
        "    #We assume q_val is in this format: [qw, q1, q2, q3]\n",
        "    #And the quaternion is normalized\n",
        "    roll = np.arctan2(2*(q_val[0]*q_val[1] + q_val[2]*q_val[3]),1 - 2*(q_val[1]*q_val[1] + q_val[2]*q_val[2]))\n",
        "    pitch = np.arcsin(2*(q_val[0]*q_val[2] - q_val[3]*q_val[1]))\n",
        "    yaw = np.arctan2(2*(q_val[0]*q_val[3] + q_val[1]*q_val[2]),1 - 2*(q_val[2]*q_val[2] + q_val[3]*q_val[3]))\n",
        "    return np.array([roll, pitch, yaw])"
      ],
      "execution_count": 158,
      "outputs": []
    },
    {
      "cell_type": "code",
      "metadata": {
        "id": "lotml-zIblBW"
      },
      "source": [
        "quat_arr = np.array(X_train[['orientation_W','orientation_X','orientation_Y','orientation_Z']])\n",
        "euler_arr = np.zeros([quat_arr.shape[0],3])\n",
        "for n,arr in enumerate(quat_arr):\n",
        "    euler_arr[n] = q_to_angle(arr)"
      ],
      "execution_count": 159,
      "outputs": []
    },
    {
      "cell_type": "code",
      "metadata": {
        "colab": {
          "base_uri": "https://localhost:8080/"
        },
        "id": "MKn3kK8ybnye",
        "outputId": "020d9a95-82bf-4554-e367-eb1438e5fbe4"
      },
      "source": [
        "euler_arr.shape"
      ],
      "execution_count": 160,
      "outputs": [
        {
          "output_type": "execute_result",
          "data": {
            "text/plain": [
              "(976128, 3)"
            ]
          },
          "metadata": {},
          "execution_count": 160
        }
      ]
    },
    {
      "cell_type": "code",
      "metadata": {
        "id": "PCDOx2l-buzz"
      },
      "source": [
        "X_train['roll'] = euler_arr[:,0]\n",
        "X_train['pitch'] = euler_arr[:,1]\n",
        "X_train['yaw'] = euler_arr[:,2]"
      ],
      "execution_count": 161,
      "outputs": []
    },
    {
      "cell_type": "code",
      "metadata": {
        "id": "IU6gZ-B-bylc"
      },
      "source": [
        "cols = list(X_train.columns.values)\n",
        "cols.remove('group_id')\n",
        "cols.append('group_id')\n",
        "cols.remove('surface')\n",
        "cols.append('surface')\n",
        "X_train = X_train[cols]"
      ],
      "execution_count": 162,
      "outputs": []
    },
    {
      "cell_type": "code",
      "metadata": {
        "id": "GprimT9ab3j0"
      },
      "source": [
        "feat_cols = ['roll','pitch','yaw','angular_velocity_X','angular_velocity_Y','angular_velocity_Z','linear_acceleration_X','linear_acceleration_Y','linear_acceleration_Z']\n",
        "feat_array = np.array(X_train[feat_cols])\n",
        "feat_array = np.reshape(feat_array,[num_series,128,len(feat_cols)])\n",
        "group_array = np.array(X_train['group_id'])\n",
        "group_array = np.reshape(group_array,[num_series,128])\n",
        "group_array = group_array[:,0]\n",
        "target_array = np.array(X_train['surface'])\n",
        "target_array = np.reshape(target_array,[num_series,128])\n",
        "target_array = target_array[:,0]"
      ],
      "execution_count": 163,
      "outputs": []
    },
    {
      "cell_type": "code",
      "metadata": {
        "colab": {
          "base_uri": "https://localhost:8080/"
        },
        "id": "jHutZrcscCXe",
        "outputId": "75c5b1b1-6aaa-4888-e1c1-30efab49a8bb"
      },
      "source": [
        "print(\"shape of feat_array is: {}\\nshape of group_array is: {}\\nshape of target_array{}\".format(feat_array.shape, group_array.shape, target_array.shape))"
      ],
      "execution_count": 164,
      "outputs": [
        {
          "output_type": "stream",
          "name": "stdout",
          "text": [
            "shape of feat_array is: (7626, 128, 9)\n",
            "shape of group_array is: (7626,)\n",
            "shape of target_array(7626,)\n"
          ]
        }
      ]
    },
    {
      "cell_type": "code",
      "metadata": {
        "id": "jLpxmoP0cEuA"
      },
      "source": [
        "delta_cols = ['roll','pitch','yaw']\n",
        "for dc in delta_cols:\n",
        "    iia = feat_cols.index(dc)\n",
        "    np_arr = feat_array[:,:,iia]\n",
        "    roll_arr = np.copy(np_arr)\n",
        "    roll_arr[:,1:] = roll_arr[:,:-1]\n",
        "    np_arr = np_arr - roll_arr\n",
        "    feat_array[:,:,iia] = np_arr"
      ],
      "execution_count": 165,
      "outputs": []
    },
    {
      "cell_type": "code",
      "metadata": {
        "id": "Cs7sW7_9cJ6s"
      },
      "source": [
        "norm_cols = ['linear_acceleration_X','linear_acceleration_Y','linear_acceleration_Z','angular_velocity_X','angular_velocity_Y','angular_velocity_Z']\n",
        "for norm in norm_cols:\n",
        "    iia = feat_cols.index(norm)\n",
        "    np_arr = feat_array[:,:,iia]\n",
        "    mean_arr = np.mean(np_arr,1)\n",
        "    mean_arr = np.expand_dims(mean_arr,1)\n",
        "    mean_arr = np.repeat(mean_arr,num_meas,1)\n",
        "    np_arr = np_arr - mean_arr\n",
        "    feat_array[:,:,iia] = np_arr"
      ],
      "execution_count": 166,
      "outputs": []
    },
    {
      "cell_type": "code",
      "metadata": {
        "id": "RhyhsazDcQrl"
      },
      "source": [
        "num_sensor = feat_array.shape[2]\n",
        "\n",
        "for i in range(num_sensor):\n",
        "    mean_s = np.mean(feat_array[:,:,i])\n",
        "    sd_s = np.std(feat_array[:,:,i])\n",
        "    feat_array[:,:,i] = (feat_array[:,:,i]-mean_s)/sd_s"
      ],
      "execution_count": 167,
      "outputs": []
    },
    {
      "cell_type": "code",
      "metadata": {
        "id": "TvHczXWJcUSx"
      },
      "source": [
        "from keras.layers import Input,Dense, Dropout, BatchNormalization, SeparableConv1D, Reshape, LSTM, DepthwiseConv2D,AveragePooling2D, CuDNNLSTM, Concatenate\n",
        "from keras.models import Model\n",
        "from keras.backend import squeeze\n",
        "from keras.regularizers import l2\n",
        "from keras.layers import Conv1D"
      ],
      "execution_count": 168,
      "outputs": []
    },
    {
      "cell_type": "code",
      "metadata": {
        "id": "3H7wbIkXcYD_"
      },
      "source": [
        "kr = None\n",
        "num_groups = np.unique(group_array).shape[0]\n",
        "num_surfaces = np.unique(target_array).shape[0]"
      ],
      "execution_count": 169,
      "outputs": []
    },
    {
      "cell_type": "code",
      "metadata": {
        "id": "oc7CtSKGcbZB"
      },
      "source": [
        "def CNN1D_NET(dp):\n",
        "    inputs_t = Input(shape=(128,len(feat_cols)))\n",
        "    x = Conv1D(32,8,2,'same',activation='relu',kernel_regularizer=kr)(inputs_t)\n",
        "    x = Dropout(dp)(x)\n",
        "    x = Conv1D(64,8,4,'same',activation='relu',kernel_regularizer=kr)(x)\n",
        "    x = Dropout(dp)(x)\n",
        "    x = Conv1D(128,8,4,'same',activation='relu',kernel_regularizer=kr)(x)\n",
        "    x = Dropout(dp)(x)\n",
        "    x = Conv1D(256,8,4,'same',activation='relu',kernel_regularizer=kr)(x)\n",
        "    x = Reshape((256,))(x)\n",
        "    # x = Dropout(dp)(x)\n",
        "    # x = Dense(256, activation='relu',kernel_regularizer=kr)(x)\n",
        "    # x = Dropout(dp)(x)\n",
        "    # x = Dense(128, activation='relu')(x)\n",
        "    x = Dense(64, activation='relu',kernel_regularizer=kr)(x)\n",
        "    # x = Dense(32, activation='relu')(x)\n",
        "\n",
        "    # z = Dense(16, activation='relu')(x)\n",
        "    predictions = Dense(num_surfaces, activation='softmax')(x)\n",
        "    model = Model(inputs=inputs_t, outputs=predictions)\n",
        "    model.compile(optimizer='Nadam',\n",
        "                  loss='sparse_categorical_crossentropy',\n",
        "                  metrics=['accuracy'])\n",
        "    return model"
      ],
      "execution_count": 170,
      "outputs": []
    },
    {
      "cell_type": "code",
      "metadata": {
        "colab": {
          "base_uri": "https://localhost:8080/"
        },
        "id": "uvT3q6wAdBlK",
        "outputId": "bd55d3e5-7aa8-4d0c-fe7a-e602c105a2b4"
      },
      "source": [
        "cnnm = CNN1D_NET(0.5)\n",
        "cnnm.summary()"
      ],
      "execution_count": 171,
      "outputs": [
        {
          "output_type": "stream",
          "name": "stdout",
          "text": [
            "Model: \"model_1\"\n",
            "_________________________________________________________________\n",
            "Layer (type)                 Output Shape              Param #   \n",
            "=================================================================\n",
            "input_2 (InputLayer)         [(None, 128, 9)]          0         \n",
            "_________________________________________________________________\n",
            "conv1d_4 (Conv1D)            (None, 64, 32)            2336      \n",
            "_________________________________________________________________\n",
            "dropout_3 (Dropout)          (None, 64, 32)            0         \n",
            "_________________________________________________________________\n",
            "conv1d_5 (Conv1D)            (None, 16, 64)            16448     \n",
            "_________________________________________________________________\n",
            "dropout_4 (Dropout)          (None, 16, 64)            0         \n",
            "_________________________________________________________________\n",
            "conv1d_6 (Conv1D)            (None, 4, 128)            65664     \n",
            "_________________________________________________________________\n",
            "dropout_5 (Dropout)          (None, 4, 128)            0         \n",
            "_________________________________________________________________\n",
            "conv1d_7 (Conv1D)            (None, 1, 256)            262400    \n",
            "_________________________________________________________________\n",
            "reshape_1 (Reshape)          (None, 256)               0         \n",
            "_________________________________________________________________\n",
            "dense_2 (Dense)              (None, 64)                16448     \n",
            "_________________________________________________________________\n",
            "dense_3 (Dense)              (None, 9)                 585       \n",
            "=================================================================\n",
            "Total params: 363,881\n",
            "Trainable params: 363,881\n",
            "Non-trainable params: 0\n",
            "_________________________________________________________________\n"
          ]
        }
      ]
    },
    {
      "cell_type": "code",
      "metadata": {
        "id": "d2NM0EqhdFZ6"
      },
      "source": [
        "tx_data = feat_array[:3000]\n",
        "tr_data = target_array[:3000]\n",
        "tacc_data = feat_array[3000:3810]\n",
        "tracc_data = target_array[3000:3810]\n",
        "\n",
        "# test_data = feat_array[3810:]"
      ],
      "execution_count": 172,
      "outputs": []
    },
    {
      "cell_type": "code",
      "metadata": {
        "colab": {
          "base_uri": "https://localhost:8080/"
        },
        "id": "5aQ9r81RdSBi",
        "outputId": "cceaa80e-b568-4b6f-c5a3-dc62cf41f42a"
      },
      "source": [
        "hist = cnnm.fit(x=tx_data, y=tr_data, batch_size=8, epochs=350, verbose=1)"
      ],
      "execution_count": 173,
      "outputs": [
        {
          "output_type": "stream",
          "name": "stdout",
          "text": [
            "Epoch 1/350\n",
            "375/375 [==============================] - 4s 8ms/step - loss: 1.9084 - accuracy: 0.2847\n",
            "Epoch 2/350\n",
            "375/375 [==============================] - 3s 8ms/step - loss: 1.6454 - accuracy: 0.3927\n",
            "Epoch 3/350\n",
            "375/375 [==============================] - 3s 7ms/step - loss: 1.4380 - accuracy: 0.4553\n",
            "Epoch 4/350\n",
            "375/375 [==============================] - 3s 8ms/step - loss: 1.2978 - accuracy: 0.5160\n",
            "Epoch 5/350\n",
            "375/375 [==============================] - 3s 7ms/step - loss: 1.2334 - accuracy: 0.5203\n",
            "Epoch 6/350\n",
            "375/375 [==============================] - 3s 8ms/step - loss: 1.1732 - accuracy: 0.5517\n",
            "Epoch 7/350\n",
            "375/375 [==============================] - 3s 7ms/step - loss: 1.1633 - accuracy: 0.5567\n",
            "Epoch 8/350\n",
            "375/375 [==============================] - 3s 7ms/step - loss: 1.1112 - accuracy: 0.5750\n",
            "Epoch 9/350\n",
            "375/375 [==============================] - 3s 7ms/step - loss: 1.0559 - accuracy: 0.5913\n",
            "Epoch 10/350\n",
            "375/375 [==============================] - 3s 8ms/step - loss: 1.0478 - accuracy: 0.5990\n",
            "Epoch 11/350\n",
            "375/375 [==============================] - 3s 7ms/step - loss: 1.0449 - accuracy: 0.5980\n",
            "Epoch 12/350\n",
            "375/375 [==============================] - 3s 7ms/step - loss: 1.0109 - accuracy: 0.6053\n",
            "Epoch 13/350\n",
            "375/375 [==============================] - 3s 8ms/step - loss: 0.9832 - accuracy: 0.6067\n",
            "Epoch 14/350\n",
            "375/375 [==============================] - 3s 8ms/step - loss: 0.9787 - accuracy: 0.6200\n",
            "Epoch 15/350\n",
            "375/375 [==============================] - 3s 7ms/step - loss: 0.9507 - accuracy: 0.6320\n",
            "Epoch 16/350\n",
            "375/375 [==============================] - 3s 8ms/step - loss: 0.9438 - accuracy: 0.6320\n",
            "Epoch 17/350\n",
            "375/375 [==============================] - 3s 7ms/step - loss: 0.9098 - accuracy: 0.6503\n",
            "Epoch 18/350\n",
            "375/375 [==============================] - 3s 7ms/step - loss: 0.9289 - accuracy: 0.6463\n",
            "Epoch 19/350\n",
            "375/375 [==============================] - 3s 8ms/step - loss: 0.9101 - accuracy: 0.6490\n",
            "Epoch 20/350\n",
            "375/375 [==============================] - 3s 7ms/step - loss: 0.8855 - accuracy: 0.6527\n",
            "Epoch 21/350\n",
            "375/375 [==============================] - 3s 7ms/step - loss: 0.8967 - accuracy: 0.6510\n",
            "Epoch 22/350\n",
            "375/375 [==============================] - 3s 7ms/step - loss: 0.8847 - accuracy: 0.6577\n",
            "Epoch 23/350\n",
            "375/375 [==============================] - 3s 7ms/step - loss: 0.8861 - accuracy: 0.6597\n",
            "Epoch 24/350\n",
            "375/375 [==============================] - 3s 7ms/step - loss: 0.8634 - accuracy: 0.6743\n",
            "Epoch 25/350\n",
            "375/375 [==============================] - 3s 7ms/step - loss: 0.8641 - accuracy: 0.6700\n",
            "Epoch 26/350\n",
            "375/375 [==============================] - 3s 7ms/step - loss: 0.8327 - accuracy: 0.6837\n",
            "Epoch 27/350\n",
            "375/375 [==============================] - 3s 7ms/step - loss: 0.8424 - accuracy: 0.6730\n",
            "Epoch 28/350\n",
            "375/375 [==============================] - 3s 8ms/step - loss: 0.8650 - accuracy: 0.6673\n",
            "Epoch 29/350\n",
            "375/375 [==============================] - 3s 8ms/step - loss: 0.8616 - accuracy: 0.6747\n",
            "Epoch 30/350\n",
            "375/375 [==============================] - 3s 8ms/step - loss: 0.8378 - accuracy: 0.6770\n",
            "Epoch 31/350\n",
            "375/375 [==============================] - 3s 7ms/step - loss: 0.8302 - accuracy: 0.6727\n",
            "Epoch 32/350\n",
            "375/375 [==============================] - 3s 8ms/step - loss: 0.8174 - accuracy: 0.6930\n",
            "Epoch 33/350\n",
            "375/375 [==============================] - 3s 7ms/step - loss: 0.8164 - accuracy: 0.6813\n",
            "Epoch 34/350\n",
            "375/375 [==============================] - 3s 7ms/step - loss: 0.8240 - accuracy: 0.6913\n",
            "Epoch 35/350\n",
            "375/375 [==============================] - 3s 7ms/step - loss: 0.7934 - accuracy: 0.6917\n",
            "Epoch 36/350\n",
            "375/375 [==============================] - 3s 7ms/step - loss: 0.7847 - accuracy: 0.7017\n",
            "Epoch 37/350\n",
            "375/375 [==============================] - 3s 7ms/step - loss: 0.7821 - accuracy: 0.7013\n",
            "Epoch 38/350\n",
            "375/375 [==============================] - 3s 7ms/step - loss: 0.7841 - accuracy: 0.6833\n",
            "Epoch 39/350\n",
            "375/375 [==============================] - 3s 7ms/step - loss: 0.7838 - accuracy: 0.7010\n",
            "Epoch 40/350\n",
            "375/375 [==============================] - 3s 7ms/step - loss: 0.7778 - accuracy: 0.6983\n",
            "Epoch 41/350\n",
            "375/375 [==============================] - 3s 8ms/step - loss: 0.7744 - accuracy: 0.7077\n",
            "Epoch 42/350\n",
            "375/375 [==============================] - 3s 7ms/step - loss: 0.7833 - accuracy: 0.7000\n",
            "Epoch 43/350\n",
            "375/375 [==============================] - 3s 7ms/step - loss: 0.8025 - accuracy: 0.7037\n",
            "Epoch 44/350\n",
            "375/375 [==============================] - 3s 7ms/step - loss: 0.7589 - accuracy: 0.7107\n",
            "Epoch 45/350\n",
            "375/375 [==============================] - 3s 7ms/step - loss: 0.7599 - accuracy: 0.6980\n",
            "Epoch 46/350\n",
            "375/375 [==============================] - 3s 7ms/step - loss: 0.7407 - accuracy: 0.7093\n",
            "Epoch 47/350\n",
            "375/375 [==============================] - 3s 7ms/step - loss: 0.7581 - accuracy: 0.7007\n",
            "Epoch 48/350\n",
            "375/375 [==============================] - 3s 7ms/step - loss: 0.7254 - accuracy: 0.7137\n",
            "Epoch 49/350\n",
            "375/375 [==============================] - 3s 7ms/step - loss: 0.7325 - accuracy: 0.7170\n",
            "Epoch 50/350\n",
            "375/375 [==============================] - 3s 7ms/step - loss: 0.7194 - accuracy: 0.7150\n",
            "Epoch 51/350\n",
            "375/375 [==============================] - 3s 7ms/step - loss: 0.7640 - accuracy: 0.7133\n",
            "Epoch 52/350\n",
            "375/375 [==============================] - 3s 7ms/step - loss: 0.7202 - accuracy: 0.7167\n",
            "Epoch 53/350\n",
            "375/375 [==============================] - 3s 8ms/step - loss: 0.7709 - accuracy: 0.7127\n",
            "Epoch 54/350\n",
            "375/375 [==============================] - 3s 7ms/step - loss: 0.7289 - accuracy: 0.7233\n",
            "Epoch 55/350\n",
            "375/375 [==============================] - 3s 7ms/step - loss: 0.7243 - accuracy: 0.7187\n",
            "Epoch 56/350\n",
            "375/375 [==============================] - 3s 7ms/step - loss: 0.7291 - accuracy: 0.7217\n",
            "Epoch 57/350\n",
            "375/375 [==============================] - 3s 7ms/step - loss: 0.7311 - accuracy: 0.7120\n",
            "Epoch 58/350\n",
            "375/375 [==============================] - 3s 7ms/step - loss: 0.7057 - accuracy: 0.7270\n",
            "Epoch 59/350\n",
            "375/375 [==============================] - 3s 7ms/step - loss: 0.7117 - accuracy: 0.7197\n",
            "Epoch 60/350\n",
            "375/375 [==============================] - 3s 7ms/step - loss: 0.7025 - accuracy: 0.7337\n",
            "Epoch 61/350\n",
            "375/375 [==============================] - 3s 8ms/step - loss: 0.7354 - accuracy: 0.7193\n",
            "Epoch 62/350\n",
            "375/375 [==============================] - 3s 7ms/step - loss: 0.7162 - accuracy: 0.7240\n",
            "Epoch 63/350\n",
            "375/375 [==============================] - 3s 7ms/step - loss: 0.7185 - accuracy: 0.7170\n",
            "Epoch 64/350\n",
            "375/375 [==============================] - 3s 8ms/step - loss: 0.7332 - accuracy: 0.7230\n",
            "Epoch 65/350\n",
            "375/375 [==============================] - 3s 7ms/step - loss: 0.7413 - accuracy: 0.7117\n",
            "Epoch 66/350\n",
            "375/375 [==============================] - 3s 7ms/step - loss: 0.7042 - accuracy: 0.7347\n",
            "Epoch 67/350\n",
            "375/375 [==============================] - 3s 8ms/step - loss: 0.6932 - accuracy: 0.7350\n",
            "Epoch 68/350\n",
            "375/375 [==============================] - 3s 8ms/step - loss: 0.8503 - accuracy: 0.7243\n",
            "Epoch 69/350\n",
            "375/375 [==============================] - 3s 8ms/step - loss: 0.6890 - accuracy: 0.7270\n",
            "Epoch 70/350\n",
            "375/375 [==============================] - 3s 8ms/step - loss: 0.6982 - accuracy: 0.7317\n",
            "Epoch 71/350\n",
            "375/375 [==============================] - 3s 7ms/step - loss: 0.6847 - accuracy: 0.7460\n",
            "Epoch 72/350\n",
            "375/375 [==============================] - 3s 8ms/step - loss: 0.7468 - accuracy: 0.7293\n",
            "Epoch 73/350\n",
            "375/375 [==============================] - 3s 7ms/step - loss: 0.7157 - accuracy: 0.7207\n",
            "Epoch 74/350\n",
            "375/375 [==============================] - 3s 7ms/step - loss: 0.6927 - accuracy: 0.7303\n",
            "Epoch 75/350\n",
            "375/375 [==============================] - 3s 8ms/step - loss: 0.6912 - accuracy: 0.7440\n",
            "Epoch 76/350\n",
            "375/375 [==============================] - 3s 7ms/step - loss: 0.6894 - accuracy: 0.7317\n",
            "Epoch 77/350\n",
            "375/375 [==============================] - 3s 8ms/step - loss: 0.7051 - accuracy: 0.7277\n",
            "Epoch 78/350\n",
            "375/375 [==============================] - 3s 7ms/step - loss: 0.6787 - accuracy: 0.7370\n",
            "Epoch 79/350\n",
            "375/375 [==============================] - 3s 8ms/step - loss: 0.6977 - accuracy: 0.7273\n",
            "Epoch 80/350\n",
            "375/375 [==============================] - 3s 7ms/step - loss: 0.6931 - accuracy: 0.7373\n",
            "Epoch 81/350\n",
            "375/375 [==============================] - 3s 8ms/step - loss: 0.6527 - accuracy: 0.7343\n",
            "Epoch 82/350\n",
            "375/375 [==============================] - 3s 8ms/step - loss: 0.6777 - accuracy: 0.7383\n",
            "Epoch 83/350\n",
            "375/375 [==============================] - 3s 8ms/step - loss: 0.6842 - accuracy: 0.7420\n",
            "Epoch 84/350\n",
            "375/375 [==============================] - 3s 8ms/step - loss: 0.6607 - accuracy: 0.7473\n",
            "Epoch 85/350\n",
            "375/375 [==============================] - 3s 8ms/step - loss: 0.6696 - accuracy: 0.7480\n",
            "Epoch 86/350\n",
            "375/375 [==============================] - 3s 8ms/step - loss: 0.6638 - accuracy: 0.7413\n",
            "Epoch 87/350\n",
            "375/375 [==============================] - 3s 7ms/step - loss: 0.6293 - accuracy: 0.7497\n",
            "Epoch 88/350\n",
            "375/375 [==============================] - 3s 8ms/step - loss: 0.6848 - accuracy: 0.7283\n",
            "Epoch 89/350\n",
            "375/375 [==============================] - 3s 8ms/step - loss: 0.6614 - accuracy: 0.7447\n",
            "Epoch 90/350\n",
            "375/375 [==============================] - 3s 8ms/step - loss: 0.6791 - accuracy: 0.7430\n",
            "Epoch 91/350\n",
            "375/375 [==============================] - 3s 8ms/step - loss: 0.6510 - accuracy: 0.7460\n",
            "Epoch 92/350\n",
            "375/375 [==============================] - 3s 8ms/step - loss: 0.6605 - accuracy: 0.7470\n",
            "Epoch 93/350\n",
            "375/375 [==============================] - 3s 8ms/step - loss: 0.6448 - accuracy: 0.7530\n",
            "Epoch 94/350\n",
            "375/375 [==============================] - 3s 7ms/step - loss: 0.6520 - accuracy: 0.7467\n",
            "Epoch 95/350\n",
            "375/375 [==============================] - 3s 8ms/step - loss: 0.7006 - accuracy: 0.7357\n",
            "Epoch 96/350\n",
            "375/375 [==============================] - 3s 7ms/step - loss: 0.6547 - accuracy: 0.7490\n",
            "Epoch 97/350\n",
            "375/375 [==============================] - 3s 8ms/step - loss: 0.6801 - accuracy: 0.7390\n",
            "Epoch 98/350\n",
            "375/375 [==============================] - 3s 8ms/step - loss: 0.6506 - accuracy: 0.7537\n",
            "Epoch 99/350\n",
            "375/375 [==============================] - 3s 8ms/step - loss: 0.6512 - accuracy: 0.7550\n",
            "Epoch 100/350\n",
            "375/375 [==============================] - 3s 8ms/step - loss: 0.6308 - accuracy: 0.7513\n",
            "Epoch 101/350\n",
            "375/375 [==============================] - 3s 7ms/step - loss: 0.6221 - accuracy: 0.7583\n",
            "Epoch 102/350\n",
            "375/375 [==============================] - 3s 7ms/step - loss: 0.6528 - accuracy: 0.7480\n",
            "Epoch 103/350\n",
            "375/375 [==============================] - 3s 8ms/step - loss: 0.6349 - accuracy: 0.7583\n",
            "Epoch 104/350\n",
            "375/375 [==============================] - 3s 8ms/step - loss: 0.6509 - accuracy: 0.7463\n",
            "Epoch 105/350\n",
            "375/375 [==============================] - 3s 8ms/step - loss: 0.6583 - accuracy: 0.7387\n",
            "Epoch 106/350\n",
            "375/375 [==============================] - 3s 7ms/step - loss: 0.7260 - accuracy: 0.7477\n",
            "Epoch 107/350\n",
            "375/375 [==============================] - 3s 8ms/step - loss: 0.6038 - accuracy: 0.7630\n",
            "Epoch 108/350\n",
            "375/375 [==============================] - 3s 7ms/step - loss: 0.6419 - accuracy: 0.7583\n",
            "Epoch 109/350\n",
            "375/375 [==============================] - 3s 8ms/step - loss: 0.6171 - accuracy: 0.7673\n",
            "Epoch 110/350\n",
            "375/375 [==============================] - 3s 8ms/step - loss: 0.6302 - accuracy: 0.7477\n",
            "Epoch 111/350\n",
            "375/375 [==============================] - 3s 8ms/step - loss: 0.6300 - accuracy: 0.7540\n",
            "Epoch 112/350\n",
            "375/375 [==============================] - 3s 8ms/step - loss: 0.6215 - accuracy: 0.7623\n",
            "Epoch 113/350\n",
            "375/375 [==============================] - 3s 8ms/step - loss: 0.6442 - accuracy: 0.7610\n",
            "Epoch 114/350\n",
            "375/375 [==============================] - 3s 8ms/step - loss: 0.6482 - accuracy: 0.7517\n",
            "Epoch 115/350\n",
            "375/375 [==============================] - 3s 7ms/step - loss: 0.6315 - accuracy: 0.7517\n",
            "Epoch 116/350\n",
            "375/375 [==============================] - 3s 8ms/step - loss: 0.6279 - accuracy: 0.7697\n",
            "Epoch 117/350\n",
            "375/375 [==============================] - 3s 8ms/step - loss: 0.6396 - accuracy: 0.7603\n",
            "Epoch 118/350\n",
            "375/375 [==============================] - 3s 7ms/step - loss: 0.6705 - accuracy: 0.7477\n",
            "Epoch 119/350\n",
            "375/375 [==============================] - 3s 8ms/step - loss: 0.6448 - accuracy: 0.7487\n",
            "Epoch 120/350\n",
            "375/375 [==============================] - 3s 7ms/step - loss: 0.5938 - accuracy: 0.7677\n",
            "Epoch 121/350\n",
            "375/375 [==============================] - 3s 8ms/step - loss: 0.6156 - accuracy: 0.7653\n",
            "Epoch 122/350\n",
            "375/375 [==============================] - 3s 8ms/step - loss: 0.6367 - accuracy: 0.7660\n",
            "Epoch 123/350\n",
            "375/375 [==============================] - 3s 8ms/step - loss: 0.6435 - accuracy: 0.7523\n",
            "Epoch 124/350\n",
            "375/375 [==============================] - 3s 8ms/step - loss: 0.6143 - accuracy: 0.7640\n",
            "Epoch 125/350\n",
            "375/375 [==============================] - 3s 8ms/step - loss: 0.6102 - accuracy: 0.7627\n",
            "Epoch 126/350\n",
            "375/375 [==============================] - 3s 8ms/step - loss: 0.6446 - accuracy: 0.7547\n",
            "Epoch 127/350\n",
            "375/375 [==============================] - 3s 8ms/step - loss: 0.6172 - accuracy: 0.7613\n",
            "Epoch 128/350\n",
            "375/375 [==============================] - 3s 8ms/step - loss: 0.6284 - accuracy: 0.7690\n",
            "Epoch 129/350\n",
            "375/375 [==============================] - 3s 8ms/step - loss: 0.6018 - accuracy: 0.7730\n",
            "Epoch 130/350\n",
            "375/375 [==============================] - 3s 8ms/step - loss: 0.6530 - accuracy: 0.7597\n",
            "Epoch 131/350\n",
            "375/375 [==============================] - 3s 8ms/step - loss: 0.6632 - accuracy: 0.7590\n",
            "Epoch 132/350\n",
            "375/375 [==============================] - 3s 7ms/step - loss: 0.6257 - accuracy: 0.7593\n",
            "Epoch 133/350\n",
            "375/375 [==============================] - 3s 8ms/step - loss: 0.6125 - accuracy: 0.7693\n",
            "Epoch 134/350\n",
            "375/375 [==============================] - 3s 7ms/step - loss: 0.6240 - accuracy: 0.7620\n",
            "Epoch 135/350\n",
            "375/375 [==============================] - 3s 8ms/step - loss: 0.6088 - accuracy: 0.7643\n",
            "Epoch 136/350\n",
            "375/375 [==============================] - 3s 7ms/step - loss: 0.6183 - accuracy: 0.7677\n",
            "Epoch 137/350\n",
            "375/375 [==============================] - 3s 8ms/step - loss: 0.6001 - accuracy: 0.7660\n",
            "Epoch 138/350\n",
            "375/375 [==============================] - 3s 8ms/step - loss: 0.6192 - accuracy: 0.7700\n",
            "Epoch 139/350\n",
            "375/375 [==============================] - 3s 8ms/step - loss: 0.6548 - accuracy: 0.7713\n",
            "Epoch 140/350\n",
            "375/375 [==============================] - 3s 8ms/step - loss: 0.6268 - accuracy: 0.7653\n",
            "Epoch 141/350\n",
            "375/375 [==============================] - 3s 8ms/step - loss: 0.6271 - accuracy: 0.7647\n",
            "Epoch 142/350\n",
            "375/375 [==============================] - 3s 8ms/step - loss: 0.6410 - accuracy: 0.7617\n",
            "Epoch 143/350\n",
            "375/375 [==============================] - 3s 8ms/step - loss: 0.6184 - accuracy: 0.7697\n",
            "Epoch 144/350\n",
            "375/375 [==============================] - 3s 8ms/step - loss: 0.5966 - accuracy: 0.7717\n",
            "Epoch 145/350\n",
            "375/375 [==============================] - 3s 8ms/step - loss: 0.6427 - accuracy: 0.7683\n",
            "Epoch 146/350\n",
            "375/375 [==============================] - 3s 8ms/step - loss: 0.6208 - accuracy: 0.7597\n",
            "Epoch 147/350\n",
            "375/375 [==============================] - 3s 8ms/step - loss: 0.5936 - accuracy: 0.7693\n",
            "Epoch 148/350\n",
            "375/375 [==============================] - 3s 8ms/step - loss: 0.5742 - accuracy: 0.7827\n",
            "Epoch 149/350\n",
            "375/375 [==============================] - 3s 8ms/step - loss: 0.6601 - accuracy: 0.7637\n",
            "Epoch 150/350\n",
            "375/375 [==============================] - 3s 8ms/step - loss: 0.6000 - accuracy: 0.7703\n",
            "Epoch 151/350\n",
            "375/375 [==============================] - 3s 8ms/step - loss: 0.6089 - accuracy: 0.7667\n",
            "Epoch 152/350\n",
            "375/375 [==============================] - 3s 8ms/step - loss: 0.5821 - accuracy: 0.7787\n",
            "Epoch 153/350\n",
            "375/375 [==============================] - 3s 8ms/step - loss: 0.5708 - accuracy: 0.7813\n",
            "Epoch 154/350\n",
            "375/375 [==============================] - 3s 8ms/step - loss: 0.6460 - accuracy: 0.7683\n",
            "Epoch 155/350\n",
            "375/375 [==============================] - 3s 8ms/step - loss: 0.6093 - accuracy: 0.7717\n",
            "Epoch 156/350\n",
            "375/375 [==============================] - 3s 8ms/step - loss: 0.6185 - accuracy: 0.7757\n",
            "Epoch 157/350\n",
            "375/375 [==============================] - 3s 7ms/step - loss: 0.6174 - accuracy: 0.7790\n",
            "Epoch 158/350\n",
            "375/375 [==============================] - 3s 8ms/step - loss: 0.6320 - accuracy: 0.7780\n",
            "Epoch 159/350\n",
            "375/375 [==============================] - 3s 8ms/step - loss: 0.5857 - accuracy: 0.7820\n",
            "Epoch 160/350\n",
            "375/375 [==============================] - 3s 8ms/step - loss: 0.5812 - accuracy: 0.7807\n",
            "Epoch 161/350\n",
            "375/375 [==============================] - 3s 8ms/step - loss: 0.5973 - accuracy: 0.7800\n",
            "Epoch 162/350\n",
            "375/375 [==============================] - 3s 8ms/step - loss: 0.6385 - accuracy: 0.7617\n",
            "Epoch 163/350\n",
            "375/375 [==============================] - 3s 8ms/step - loss: 0.6012 - accuracy: 0.7693\n",
            "Epoch 164/350\n",
            "375/375 [==============================] - 3s 7ms/step - loss: 0.5973 - accuracy: 0.7723\n",
            "Epoch 165/350\n",
            "375/375 [==============================] - 3s 8ms/step - loss: 0.5868 - accuracy: 0.7690\n",
            "Epoch 166/350\n",
            "375/375 [==============================] - 3s 8ms/step - loss: 0.6003 - accuracy: 0.7610\n",
            "Epoch 167/350\n",
            "375/375 [==============================] - 3s 8ms/step - loss: 0.6146 - accuracy: 0.7830\n",
            "Epoch 168/350\n",
            "375/375 [==============================] - 3s 7ms/step - loss: 0.6127 - accuracy: 0.7700\n",
            "Epoch 169/350\n",
            "375/375 [==============================] - 3s 8ms/step - loss: 0.5963 - accuracy: 0.7827\n",
            "Epoch 170/350\n",
            "375/375 [==============================] - 3s 8ms/step - loss: 0.5943 - accuracy: 0.7693\n",
            "Epoch 171/350\n",
            "375/375 [==============================] - 3s 8ms/step - loss: 0.5992 - accuracy: 0.7727\n",
            "Epoch 172/350\n",
            "375/375 [==============================] - 3s 7ms/step - loss: 0.6104 - accuracy: 0.7700\n",
            "Epoch 173/350\n",
            "375/375 [==============================] - 3s 8ms/step - loss: 0.5752 - accuracy: 0.7773\n",
            "Epoch 174/350\n",
            "375/375 [==============================] - 3s 8ms/step - loss: 0.6224 - accuracy: 0.7917\n",
            "Epoch 175/350\n",
            "375/375 [==============================] - 3s 8ms/step - loss: 0.6096 - accuracy: 0.7717\n",
            "Epoch 176/350\n",
            "375/375 [==============================] - 3s 8ms/step - loss: 0.6408 - accuracy: 0.7757\n",
            "Epoch 177/350\n",
            "375/375 [==============================] - 3s 8ms/step - loss: 0.6095 - accuracy: 0.7757\n",
            "Epoch 178/350\n",
            "375/375 [==============================] - 3s 8ms/step - loss: 0.5898 - accuracy: 0.7710\n",
            "Epoch 179/350\n",
            "375/375 [==============================] - 3s 8ms/step - loss: 0.6850 - accuracy: 0.7673\n",
            "Epoch 180/350\n",
            "375/375 [==============================] - 3s 8ms/step - loss: 0.5834 - accuracy: 0.7783\n",
            "Epoch 181/350\n",
            "375/375 [==============================] - 3s 8ms/step - loss: 0.5729 - accuracy: 0.7807\n",
            "Epoch 182/350\n",
            "375/375 [==============================] - 3s 8ms/step - loss: 0.5664 - accuracy: 0.7873\n",
            "Epoch 183/350\n",
            "375/375 [==============================] - 3s 8ms/step - loss: 0.7057 - accuracy: 0.7880\n",
            "Epoch 184/350\n",
            "375/375 [==============================] - 3s 8ms/step - loss: 0.6006 - accuracy: 0.7703\n",
            "Epoch 185/350\n",
            "375/375 [==============================] - 3s 8ms/step - loss: 0.6076 - accuracy: 0.7717\n",
            "Epoch 186/350\n",
            "375/375 [==============================] - 3s 8ms/step - loss: 0.5740 - accuracy: 0.7837\n",
            "Epoch 187/350\n",
            "375/375 [==============================] - 3s 7ms/step - loss: 0.5971 - accuracy: 0.7743\n",
            "Epoch 188/350\n",
            "375/375 [==============================] - 3s 8ms/step - loss: 0.5668 - accuracy: 0.7843\n",
            "Epoch 189/350\n",
            "375/375 [==============================] - 3s 8ms/step - loss: 0.6124 - accuracy: 0.7823\n",
            "Epoch 190/350\n",
            "375/375 [==============================] - 3s 8ms/step - loss: 0.6038 - accuracy: 0.7817\n",
            "Epoch 191/350\n",
            "375/375 [==============================] - 3s 8ms/step - loss: 0.5933 - accuracy: 0.7830\n",
            "Epoch 192/350\n",
            "375/375 [==============================] - 3s 8ms/step - loss: 0.5804 - accuracy: 0.7863\n",
            "Epoch 193/350\n",
            "375/375 [==============================] - 3s 8ms/step - loss: 0.5618 - accuracy: 0.7830\n",
            "Epoch 194/350\n",
            "375/375 [==============================] - 3s 8ms/step - loss: 0.5989 - accuracy: 0.7703\n",
            "Epoch 195/350\n",
            "375/375 [==============================] - 3s 8ms/step - loss: 0.6115 - accuracy: 0.7747\n",
            "Epoch 196/350\n",
            "375/375 [==============================] - 3s 8ms/step - loss: 0.5795 - accuracy: 0.7730\n",
            "Epoch 197/350\n",
            "375/375 [==============================] - 3s 8ms/step - loss: 0.5972 - accuracy: 0.7743\n",
            "Epoch 198/350\n",
            "375/375 [==============================] - 3s 8ms/step - loss: 0.6013 - accuracy: 0.7767\n",
            "Epoch 199/350\n",
            "375/375 [==============================] - 3s 8ms/step - loss: 0.5577 - accuracy: 0.7980\n",
            "Epoch 200/350\n",
            "375/375 [==============================] - 3s 8ms/step - loss: 0.5419 - accuracy: 0.7970\n",
            "Epoch 201/350\n",
            "375/375 [==============================] - 3s 8ms/step - loss: 0.5676 - accuracy: 0.7903\n",
            "Epoch 202/350\n",
            "375/375 [==============================] - 3s 8ms/step - loss: 0.5554 - accuracy: 0.7880\n",
            "Epoch 203/350\n",
            "375/375 [==============================] - 3s 8ms/step - loss: 0.6659 - accuracy: 0.7773\n",
            "Epoch 204/350\n",
            "375/375 [==============================] - 3s 8ms/step - loss: 0.6004 - accuracy: 0.7810\n",
            "Epoch 205/350\n",
            "375/375 [==============================] - 3s 8ms/step - loss: 0.5693 - accuracy: 0.7743\n",
            "Epoch 206/350\n",
            "375/375 [==============================] - 3s 8ms/step - loss: 0.5693 - accuracy: 0.7883\n",
            "Epoch 207/350\n",
            "375/375 [==============================] - 3s 8ms/step - loss: 0.5901 - accuracy: 0.7840\n",
            "Epoch 208/350\n",
            "375/375 [==============================] - 3s 8ms/step - loss: 0.5869 - accuracy: 0.7817\n",
            "Epoch 209/350\n",
            "375/375 [==============================] - 3s 8ms/step - loss: 0.5879 - accuracy: 0.7777\n",
            "Epoch 210/350\n",
            "375/375 [==============================] - 3s 8ms/step - loss: 0.5958 - accuracy: 0.7767\n",
            "Epoch 211/350\n",
            "375/375 [==============================] - 3s 8ms/step - loss: 0.5586 - accuracy: 0.7920\n",
            "Epoch 212/350\n",
            "375/375 [==============================] - 3s 8ms/step - loss: 0.5920 - accuracy: 0.7783\n",
            "Epoch 213/350\n",
            "375/375 [==============================] - 3s 8ms/step - loss: 0.5674 - accuracy: 0.7880\n",
            "Epoch 214/350\n",
            "375/375 [==============================] - 3s 8ms/step - loss: 0.5838 - accuracy: 0.7877\n",
            "Epoch 215/350\n",
            "375/375 [==============================] - 3s 8ms/step - loss: 0.5758 - accuracy: 0.7903\n",
            "Epoch 216/350\n",
            "375/375 [==============================] - 3s 8ms/step - loss: 0.6146 - accuracy: 0.7847\n",
            "Epoch 217/350\n",
            "375/375 [==============================] - 3s 8ms/step - loss: 0.6476 - accuracy: 0.7940\n",
            "Epoch 218/350\n",
            "375/375 [==============================] - 3s 8ms/step - loss: 0.5430 - accuracy: 0.8033\n",
            "Epoch 219/350\n",
            "375/375 [==============================] - 3s 8ms/step - loss: 0.5382 - accuracy: 0.7857\n",
            "Epoch 220/350\n",
            "375/375 [==============================] - 3s 8ms/step - loss: 0.5582 - accuracy: 0.7877\n",
            "Epoch 221/350\n",
            "375/375 [==============================] - 3s 8ms/step - loss: 0.5563 - accuracy: 0.7847\n",
            "Epoch 222/350\n",
            "375/375 [==============================] - 3s 8ms/step - loss: 0.6570 - accuracy: 0.7887\n",
            "Epoch 223/350\n",
            "375/375 [==============================] - 3s 8ms/step - loss: 0.6242 - accuracy: 0.7743\n",
            "Epoch 224/350\n",
            "375/375 [==============================] - 3s 8ms/step - loss: 0.6393 - accuracy: 0.7760\n",
            "Epoch 225/350\n",
            "375/375 [==============================] - 3s 8ms/step - loss: 0.6105 - accuracy: 0.7770\n",
            "Epoch 226/350\n",
            "375/375 [==============================] - 3s 8ms/step - loss: 0.5496 - accuracy: 0.7983\n",
            "Epoch 227/350\n",
            "375/375 [==============================] - 3s 8ms/step - loss: 0.5222 - accuracy: 0.7913\n",
            "Epoch 228/350\n",
            "375/375 [==============================] - 3s 8ms/step - loss: 0.5688 - accuracy: 0.7887\n",
            "Epoch 229/350\n",
            "375/375 [==============================] - 3s 8ms/step - loss: 0.6001 - accuracy: 0.7857\n",
            "Epoch 230/350\n",
            "375/375 [==============================] - 3s 8ms/step - loss: 0.5771 - accuracy: 0.7813\n",
            "Epoch 231/350\n",
            "375/375 [==============================] - 3s 8ms/step - loss: 0.6459 - accuracy: 0.7583\n",
            "Epoch 232/350\n",
            "375/375 [==============================] - 3s 8ms/step - loss: 0.5662 - accuracy: 0.7953\n",
            "Epoch 233/350\n",
            "375/375 [==============================] - 3s 7ms/step - loss: 0.6418 - accuracy: 0.7827\n",
            "Epoch 234/350\n",
            "375/375 [==============================] - 3s 8ms/step - loss: 0.5600 - accuracy: 0.7907\n",
            "Epoch 235/350\n",
            "375/375 [==============================] - 3s 8ms/step - loss: 0.5508 - accuracy: 0.7917\n",
            "Epoch 236/350\n",
            "375/375 [==============================] - 3s 8ms/step - loss: 0.5757 - accuracy: 0.7840\n",
            "Epoch 237/350\n",
            "375/375 [==============================] - 3s 8ms/step - loss: 0.5765 - accuracy: 0.7790\n",
            "Epoch 238/350\n",
            "375/375 [==============================] - 3s 8ms/step - loss: 0.6115 - accuracy: 0.7933\n",
            "Epoch 239/350\n",
            "375/375 [==============================] - 3s 8ms/step - loss: 0.5578 - accuracy: 0.7857\n",
            "Epoch 240/350\n",
            "375/375 [==============================] - 3s 8ms/step - loss: 0.5635 - accuracy: 0.7857\n",
            "Epoch 241/350\n",
            "375/375 [==============================] - 3s 8ms/step - loss: 0.6258 - accuracy: 0.7693\n",
            "Epoch 242/350\n",
            "375/375 [==============================] - 3s 8ms/step - loss: 0.5655 - accuracy: 0.7863\n",
            "Epoch 243/350\n",
            "375/375 [==============================] - 3s 8ms/step - loss: 0.6049 - accuracy: 0.7773\n",
            "Epoch 244/350\n",
            "375/375 [==============================] - 3s 8ms/step - loss: 0.5519 - accuracy: 0.7923\n",
            "Epoch 245/350\n",
            "375/375 [==============================] - 3s 8ms/step - loss: 0.5778 - accuracy: 0.7953\n",
            "Epoch 246/350\n",
            "375/375 [==============================] - 3s 8ms/step - loss: 0.5745 - accuracy: 0.7973\n",
            "Epoch 247/350\n",
            "375/375 [==============================] - 3s 8ms/step - loss: 0.5889 - accuracy: 0.7817\n",
            "Epoch 248/350\n",
            "375/375 [==============================] - 3s 8ms/step - loss: 0.5492 - accuracy: 0.7947\n",
            "Epoch 249/350\n",
            "375/375 [==============================] - 3s 8ms/step - loss: 0.5889 - accuracy: 0.7970\n",
            "Epoch 250/350\n",
            "375/375 [==============================] - 3s 8ms/step - loss: 0.5514 - accuracy: 0.7900\n",
            "Epoch 251/350\n",
            "375/375 [==============================] - 3s 8ms/step - loss: 0.5659 - accuracy: 0.7947\n",
            "Epoch 252/350\n",
            "375/375 [==============================] - 3s 8ms/step - loss: 0.6086 - accuracy: 0.7760\n",
            "Epoch 253/350\n",
            "375/375 [==============================] - 3s 8ms/step - loss: 0.5694 - accuracy: 0.7800\n",
            "Epoch 254/350\n",
            "375/375 [==============================] - 3s 8ms/step - loss: 0.5823 - accuracy: 0.7950\n",
            "Epoch 255/350\n",
            "375/375 [==============================] - 3s 8ms/step - loss: 0.5811 - accuracy: 0.7783\n",
            "Epoch 256/350\n",
            "375/375 [==============================] - 3s 8ms/step - loss: 0.5490 - accuracy: 0.8040\n",
            "Epoch 257/350\n",
            "375/375 [==============================] - 3s 8ms/step - loss: 0.5451 - accuracy: 0.7963\n",
            "Epoch 258/350\n",
            "375/375 [==============================] - 3s 8ms/step - loss: 0.5758 - accuracy: 0.7843\n",
            "Epoch 259/350\n",
            "375/375 [==============================] - 3s 8ms/step - loss: 0.5153 - accuracy: 0.8057\n",
            "Epoch 260/350\n",
            "375/375 [==============================] - 3s 8ms/step - loss: 0.5596 - accuracy: 0.7957\n",
            "Epoch 261/350\n",
            "375/375 [==============================] - 3s 8ms/step - loss: 0.5585 - accuracy: 0.7950\n",
            "Epoch 262/350\n",
            "375/375 [==============================] - 3s 8ms/step - loss: 0.5733 - accuracy: 0.7943\n",
            "Epoch 263/350\n",
            "375/375 [==============================] - 3s 8ms/step - loss: 0.6017 - accuracy: 0.7770\n",
            "Epoch 264/350\n",
            "375/375 [==============================] - 3s 8ms/step - loss: 0.5282 - accuracy: 0.8017\n",
            "Epoch 265/350\n",
            "375/375 [==============================] - 3s 8ms/step - loss: 0.5379 - accuracy: 0.7997\n",
            "Epoch 266/350\n",
            "375/375 [==============================] - 3s 8ms/step - loss: 0.5791 - accuracy: 0.7950\n",
            "Epoch 267/350\n",
            "375/375 [==============================] - 3s 8ms/step - loss: 0.6397 - accuracy: 0.7827\n",
            "Epoch 268/350\n",
            "375/375 [==============================] - 3s 8ms/step - loss: 0.5121 - accuracy: 0.8083\n",
            "Epoch 269/350\n",
            "375/375 [==============================] - 3s 8ms/step - loss: 0.5399 - accuracy: 0.8023\n",
            "Epoch 270/350\n",
            "375/375 [==============================] - 3s 8ms/step - loss: 0.5623 - accuracy: 0.7913\n",
            "Epoch 271/350\n",
            "375/375 [==============================] - 3s 8ms/step - loss: 0.5876 - accuracy: 0.7860\n",
            "Epoch 272/350\n",
            "375/375 [==============================] - 3s 8ms/step - loss: 0.5607 - accuracy: 0.7993\n",
            "Epoch 273/350\n",
            "375/375 [==============================] - 3s 8ms/step - loss: 0.6429 - accuracy: 0.7897\n",
            "Epoch 274/350\n",
            "375/375 [==============================] - 3s 8ms/step - loss: 0.5643 - accuracy: 0.7847\n",
            "Epoch 275/350\n",
            "375/375 [==============================] - 3s 8ms/step - loss: 0.5551 - accuracy: 0.7930\n",
            "Epoch 276/350\n",
            "375/375 [==============================] - 3s 8ms/step - loss: 0.6123 - accuracy: 0.7883\n",
            "Epoch 277/350\n",
            "375/375 [==============================] - 3s 8ms/step - loss: 0.5812 - accuracy: 0.7900\n",
            "Epoch 278/350\n",
            "375/375 [==============================] - 3s 8ms/step - loss: 0.5587 - accuracy: 0.7970\n",
            "Epoch 279/350\n",
            "375/375 [==============================] - 3s 8ms/step - loss: 0.5534 - accuracy: 0.7970\n",
            "Epoch 280/350\n",
            "375/375 [==============================] - 3s 8ms/step - loss: 0.5245 - accuracy: 0.8070\n",
            "Epoch 281/350\n",
            "375/375 [==============================] - 3s 8ms/step - loss: 0.5391 - accuracy: 0.7993\n",
            "Epoch 282/350\n",
            "375/375 [==============================] - 3s 8ms/step - loss: 0.5714 - accuracy: 0.7977\n",
            "Epoch 283/350\n",
            "375/375 [==============================] - 3s 8ms/step - loss: 0.5743 - accuracy: 0.8017\n",
            "Epoch 284/350\n",
            "375/375 [==============================] - 3s 8ms/step - loss: 0.5400 - accuracy: 0.8050\n",
            "Epoch 285/350\n",
            "375/375 [==============================] - 3s 8ms/step - loss: 0.6050 - accuracy: 0.7847\n",
            "Epoch 286/350\n",
            "375/375 [==============================] - 3s 8ms/step - loss: 0.5484 - accuracy: 0.7943\n",
            "Epoch 287/350\n",
            "375/375 [==============================] - 3s 8ms/step - loss: 0.5296 - accuracy: 0.8003\n",
            "Epoch 288/350\n",
            "375/375 [==============================] - 3s 8ms/step - loss: 0.5684 - accuracy: 0.7877\n",
            "Epoch 289/350\n",
            "375/375 [==============================] - 3s 8ms/step - loss: 0.6221 - accuracy: 0.7953\n",
            "Epoch 290/350\n",
            "375/375 [==============================] - 3s 8ms/step - loss: 0.5547 - accuracy: 0.7950\n",
            "Epoch 291/350\n",
            "375/375 [==============================] - 3s 8ms/step - loss: 0.5598 - accuracy: 0.7937\n",
            "Epoch 292/350\n",
            "375/375 [==============================] - 3s 8ms/step - loss: 0.5729 - accuracy: 0.7933\n",
            "Epoch 293/350\n",
            "375/375 [==============================] - 3s 8ms/step - loss: 0.5602 - accuracy: 0.7980\n",
            "Epoch 294/350\n",
            "375/375 [==============================] - 3s 8ms/step - loss: 0.7215 - accuracy: 0.7800\n",
            "Epoch 295/350\n",
            "375/375 [==============================] - 3s 8ms/step - loss: 0.5813 - accuracy: 0.7830\n",
            "Epoch 296/350\n",
            "375/375 [==============================] - 3s 8ms/step - loss: 0.5672 - accuracy: 0.7840\n",
            "Epoch 297/350\n",
            "375/375 [==============================] - 3s 8ms/step - loss: 0.5262 - accuracy: 0.7943\n",
            "Epoch 298/350\n",
            "375/375 [==============================] - 3s 8ms/step - loss: 0.5483 - accuracy: 0.8010\n",
            "Epoch 299/350\n",
            "375/375 [==============================] - 3s 8ms/step - loss: 0.5890 - accuracy: 0.7893\n",
            "Epoch 300/350\n",
            "375/375 [==============================] - 3s 8ms/step - loss: 0.5952 - accuracy: 0.7863\n",
            "Epoch 301/350\n",
            "375/375 [==============================] - 3s 8ms/step - loss: 0.5901 - accuracy: 0.7903\n",
            "Epoch 302/350\n",
            "375/375 [==============================] - 3s 8ms/step - loss: 0.5546 - accuracy: 0.7960\n",
            "Epoch 303/350\n",
            "375/375 [==============================] - 3s 8ms/step - loss: 0.5571 - accuracy: 0.7940\n",
            "Epoch 304/350\n",
            "375/375 [==============================] - 3s 8ms/step - loss: 0.5594 - accuracy: 0.7953\n",
            "Epoch 305/350\n",
            "375/375 [==============================] - 3s 8ms/step - loss: 0.5656 - accuracy: 0.7920\n",
            "Epoch 306/350\n",
            "375/375 [==============================] - 3s 8ms/step - loss: 0.5175 - accuracy: 0.8013\n",
            "Epoch 307/350\n",
            "375/375 [==============================] - 3s 8ms/step - loss: 0.5729 - accuracy: 0.7980\n",
            "Epoch 308/350\n",
            "375/375 [==============================] - 3s 8ms/step - loss: 0.5448 - accuracy: 0.8023\n",
            "Epoch 309/350\n",
            "375/375 [==============================] - 3s 8ms/step - loss: 0.5851 - accuracy: 0.7923\n",
            "Epoch 310/350\n",
            "375/375 [==============================] - 3s 8ms/step - loss: 0.5487 - accuracy: 0.8027\n",
            "Epoch 311/350\n",
            "375/375 [==============================] - 3s 8ms/step - loss: 0.5326 - accuracy: 0.8153\n",
            "Epoch 312/350\n",
            "375/375 [==============================] - 3s 8ms/step - loss: 0.5762 - accuracy: 0.7907\n",
            "Epoch 313/350\n",
            "375/375 [==============================] - 3s 8ms/step - loss: 0.5885 - accuracy: 0.7857\n",
            "Epoch 314/350\n",
            "375/375 [==============================] - 3s 8ms/step - loss: 0.5806 - accuracy: 0.7887\n",
            "Epoch 315/350\n",
            "375/375 [==============================] - 3s 8ms/step - loss: 0.6503 - accuracy: 0.7887\n",
            "Epoch 316/350\n",
            "375/375 [==============================] - 3s 8ms/step - loss: 0.5468 - accuracy: 0.7977\n",
            "Epoch 317/350\n",
            "375/375 [==============================] - 3s 8ms/step - loss: 0.5829 - accuracy: 0.7860\n",
            "Epoch 318/350\n",
            "375/375 [==============================] - 3s 8ms/step - loss: 0.6551 - accuracy: 0.7930\n",
            "Epoch 319/350\n",
            "375/375 [==============================] - 3s 8ms/step - loss: 0.6817 - accuracy: 0.8093\n",
            "Epoch 320/350\n",
            "375/375 [==============================] - 3s 8ms/step - loss: 1.6533 - accuracy: 0.7820\n",
            "Epoch 321/350\n",
            "375/375 [==============================] - 3s 8ms/step - loss: 0.5599 - accuracy: 0.7840\n",
            "Epoch 322/350\n",
            "375/375 [==============================] - 3s 8ms/step - loss: 0.5611 - accuracy: 0.7937\n",
            "Epoch 323/350\n",
            "375/375 [==============================] - 3s 8ms/step - loss: 0.5730 - accuracy: 0.8010\n",
            "Epoch 324/350\n",
            "375/375 [==============================] - 3s 8ms/step - loss: 0.5397 - accuracy: 0.8100\n",
            "Epoch 325/350\n",
            "375/375 [==============================] - 3s 8ms/step - loss: 0.5387 - accuracy: 0.8010\n",
            "Epoch 326/350\n",
            "375/375 [==============================] - 3s 8ms/step - loss: 0.5521 - accuracy: 0.7930\n",
            "Epoch 327/350\n",
            "375/375 [==============================] - 3s 8ms/step - loss: 0.5340 - accuracy: 0.8097\n",
            "Epoch 328/350\n",
            "375/375 [==============================] - 3s 8ms/step - loss: 0.5477 - accuracy: 0.8040\n",
            "Epoch 329/350\n",
            "375/375 [==============================] - 3s 8ms/step - loss: 0.5214 - accuracy: 0.7997\n",
            "Epoch 330/350\n",
            "375/375 [==============================] - 3s 8ms/step - loss: 0.5977 - accuracy: 0.7953\n",
            "Epoch 331/350\n",
            "375/375 [==============================] - 3s 8ms/step - loss: 0.6218 - accuracy: 0.7930\n",
            "Epoch 332/350\n",
            "375/375 [==============================] - 3s 8ms/step - loss: 0.6937 - accuracy: 0.8017\n",
            "Epoch 333/350\n",
            "375/375 [==============================] - 3s 8ms/step - loss: 0.6101 - accuracy: 0.7943\n",
            "Epoch 334/350\n",
            "375/375 [==============================] - 3s 8ms/step - loss: 0.5346 - accuracy: 0.8063\n",
            "Epoch 335/350\n",
            "375/375 [==============================] - 3s 8ms/step - loss: 0.6054 - accuracy: 0.7990\n",
            "Epoch 336/350\n",
            "375/375 [==============================] - 3s 8ms/step - loss: 0.5487 - accuracy: 0.7953\n",
            "Epoch 337/350\n",
            "375/375 [==============================] - 3s 8ms/step - loss: 0.5406 - accuracy: 0.7967\n",
            "Epoch 338/350\n",
            "375/375 [==============================] - 3s 8ms/step - loss: 0.5721 - accuracy: 0.8020\n",
            "Epoch 339/350\n",
            "375/375 [==============================] - 3s 8ms/step - loss: 0.5760 - accuracy: 0.8067\n",
            "Epoch 340/350\n",
            "375/375 [==============================] - 3s 8ms/step - loss: 0.5596 - accuracy: 0.7900\n",
            "Epoch 341/350\n",
            "375/375 [==============================] - 3s 8ms/step - loss: 0.5790 - accuracy: 0.7970\n",
            "Epoch 342/350\n",
            "375/375 [==============================] - 3s 8ms/step - loss: 0.5604 - accuracy: 0.7960\n",
            "Epoch 343/350\n",
            "375/375 [==============================] - 3s 8ms/step - loss: 0.5555 - accuracy: 0.7927\n",
            "Epoch 344/350\n",
            "375/375 [==============================] - 3s 8ms/step - loss: 0.5357 - accuracy: 0.7987\n",
            "Epoch 345/350\n",
            "375/375 [==============================] - 3s 8ms/step - loss: 0.5008 - accuracy: 0.8057\n",
            "Epoch 346/350\n",
            "375/375 [==============================] - 3s 8ms/step - loss: 0.5390 - accuracy: 0.8163\n",
            "Epoch 347/350\n",
            "375/375 [==============================] - 3s 8ms/step - loss: 0.5916 - accuracy: 0.8117\n",
            "Epoch 348/350\n",
            "375/375 [==============================] - 3s 8ms/step - loss: 0.5861 - accuracy: 0.8097\n",
            "Epoch 349/350\n",
            "375/375 [==============================] - 3s 8ms/step - loss: 0.5956 - accuracy: 0.7997\n",
            "Epoch 350/350\n",
            "375/375 [==============================] - 3s 8ms/step - loss: 0.5314 - accuracy: 0.8040\n"
          ]
        }
      ]
    },
    {
      "cell_type": "code",
      "metadata": {
        "colab": {
          "base_uri": "https://localhost:8080/",
          "height": 337
        },
        "id": "_vBtsPMEdU0E",
        "outputId": "b08218b4-79f3-46c7-91c1-c1edb51ae5c4"
      },
      "source": [
        "plt.figure(figsize=(12, 6))\n",
        "plt.plot(hist.history['loss'], label= 'training loss')\n",
        "plt.legend();"
      ],
      "execution_count": 174,
      "outputs": [
        {
          "output_type": "display_data",
          "data": {
            "image/png": "[encoded data removed]",
            "text/plain": [
              "<Figure size 864x432 with 1 Axes>"
            ]
          },
          "metadata": {
            "needs_background": "light"
          }
        }
      ]
    },
    {
      "cell_type": "code",
      "metadata": {
        "colab": {
          "base_uri": "https://localhost:8080/",
          "height": 356
        },
        "id": "pCTmx6eMfKjA",
        "outputId": "7adf2f8d-e6f1-452f-c274-6304b22cd601"
      },
      "source": [
        "plt.figure(figsize=(12, 6))\n",
        "plt.plot(hist.history['accuracy'], label=\"Training acc\")\n",
        "plt.legend()\n",
        ";"
      ],
      "execution_count": 175,
      "outputs": [
        {
          "output_type": "execute_result",
          "data": {
            "application/vnd.google.colaboratory.intrinsic+json": {
              "type": "string"
            },
            "text/plain": [
              "''"
            ]
          },
          "metadata": {},
          "execution_count": 175
        },
        {
          "output_type": "display_data",
          "data": {
            "image/png": "[encoded data removed]",
            "text/plain": [
              "<Figure size 864x432 with 1 Axes>"
            ]
          },
          "metadata": {
            "needs_background": "light"
          }
        }
      ]
    },
    {
      "cell_type": "code",
      "metadata": {
        "colab": {
          "base_uri": "https://localhost:8080/"
        },
        "id": "y-dFTBQZfSqs",
        "outputId": "54da0f4a-5929-4474-bd60-2ca9beee0f96"
      },
      "source": [
        "cnnm.evaluate(tacc_data, tracc_data, verbose=2)"
      ],
      "execution_count": 176,
      "outputs": [
        {
          "output_type": "stream",
          "name": "stdout",
          "text": [
            "26/26 - 0s - loss: 0.8985 - accuracy: 0.8025\n"
          ]
        },
        {
          "output_type": "execute_result",
          "data": {
            "text/plain": [
              "[0.8985244631767273, 0.8024691343307495]"
            ]
          },
          "metadata": {},
          "execution_count": 176
        }
      ]
    },
    {
      "cell_type": "code",
      "metadata": {
        "id": "KfFABQIvfgt5"
      },
      "source": [
        "pr = cnnm.predict(tacc_data[:3])"
      ],
      "execution_count": 189,
      "outputs": []
    },
    {
      "cell_type": "code",
      "metadata": {
        "colab": {
          "base_uri": "https://localhost:8080/"
        },
        "id": "Xc1xFYGOjCMM",
        "outputId": "a9b8945a-ba73-4c37-c0dd-711d720fa520"
      },
      "source": [
        "pr"
      ],
      "execution_count": 191,
      "outputs": [
        {
          "output_type": "execute_result",
          "data": {
            "text/plain": [
              "array([[0.0000000e+00, 3.0096881e-22, 6.9536096e-01, 0.0000000e+00,\n",
              "        3.0463454e-01, 3.8871934e-31, 4.5097536e-06, 0.0000000e+00,\n",
              "        2.9676289e-16],\n",
              "       [3.4389575e-07, 2.4007370e-04, 3.0581884e-02, 0.0000000e+00,\n",
              "        9.6917558e-01, 6.3590413e-12, 8.0533908e-08, 4.7036966e-08,\n",
              "        1.9212710e-06],\n",
              "       [2.7894593e-11, 9.9743903e-01, 3.7222520e-18, 0.0000000e+00,\n",
              "        2.0262308e-03, 1.0443798e-05, 1.7841803e-31, 5.2308489e-04,\n",
              "        1.1304263e-06]], dtype=float32)"
            ]
          },
          "metadata": {},
          "execution_count": 191
        }
      ]
    },
    {
      "cell_type": "code",
      "metadata": {
        "colab": {
          "base_uri": "https://localhost:8080/",
          "height": 443
        },
        "id": "fvLHbOVnHtUH",
        "outputId": "7118d64b-03ac-4c1b-d255-7387f6fc4f6c"
      },
      "source": [
        "# The green bar is correct surface.\n",
        "fig = plt.figure()\n",
        "ax = fig.add_axes([0,0,3,3])\n",
        "langs = ['carpet', 'concrete', 'fine_concrete','hard_tile', 'hard_tiled_large_space', 'soft_pvc', 'soft_tiles', 'tiled', 'wood']\n",
        "prob = pr[1,:]\n",
        "ax.bar(langs, prob)\n",
        "ax.bar(langs[tracc_data[1]], prob[tracc_data[1]], color='g')\n",
        "  \n",
        "plt.show()"
      ],
      "execution_count": 199,
      "outputs": [
        {
          "output_type": "display_data",
          "data": {
            "image/png": "[encoded data removed]",
            "text/plain": [
              "<Figure size 432x288 with 1 Axes>"
            ]
          },
          "metadata": {
            "needs_background": "light"
          }
        }
      ]
    },
    {
      "cell_type": "code",
      "metadata": {
        "id": "qNgIMqM5b1Kq"
      },
      "source": [
        ""
      ],
      "execution_count": null,
      "outputs": []
    }
  ]
}